{
 "cells": [
  {
   "cell_type": "code",
   "execution_count": 1,
   "metadata": {},
   "outputs": [
    {
     "data": {
      "text/html": [
       "<div>\n",
       "<style scoped>\n",
       "    .dataframe tbody tr th:only-of-type {\n",
       "        vertical-align: middle;\n",
       "    }\n",
       "\n",
       "    .dataframe tbody tr th {\n",
       "        vertical-align: top;\n",
       "    }\n",
       "\n",
       "    .dataframe thead th {\n",
       "        text-align: right;\n",
       "    }\n",
       "</style>\n",
       "<table border=\"1\" class=\"dataframe\">\n",
       "  <thead>\n",
       "    <tr style=\"text-align: right;\">\n",
       "      <th></th>\n",
       "      <th>Unnamed: 0</th>\n",
       "      <th>loan_amnt</th>\n",
       "      <th>term</th>\n",
       "      <th>int_rate</th>\n",
       "      <th>installment</th>\n",
       "      <th>grade</th>\n",
       "      <th>sub_grade</th>\n",
       "      <th>emp_length</th>\n",
       "      <th>home_ownership</th>\n",
       "      <th>annual_inc</th>\n",
       "      <th>...</th>\n",
       "      <th>dti</th>\n",
       "      <th>delinq_2yrs</th>\n",
       "      <th>open_acc</th>\n",
       "      <th>total_acc</th>\n",
       "      <th>initial_list_status</th>\n",
       "      <th>out_prncp</th>\n",
       "      <th>total_pymnt</th>\n",
       "      <th>total_pymnt_inv</th>\n",
       "      <th>application_type</th>\n",
       "      <th>acc_now_delinq</th>\n",
       "    </tr>\n",
       "  </thead>\n",
       "  <tbody>\n",
       "    <tr>\n",
       "      <th>0</th>\n",
       "      <td>0</td>\n",
       "      <td>5000.0</td>\n",
       "      <td>36</td>\n",
       "      <td>10.65</td>\n",
       "      <td>162.87</td>\n",
       "      <td>B</td>\n",
       "      <td>B2</td>\n",
       "      <td>10</td>\n",
       "      <td>RENT</td>\n",
       "      <td>24000</td>\n",
       "      <td>...</td>\n",
       "      <td>27.65</td>\n",
       "      <td>0.0</td>\n",
       "      <td>3.0</td>\n",
       "      <td>9.0</td>\n",
       "      <td>f</td>\n",
       "      <td>0.0</td>\n",
       "      <td>5861.071414</td>\n",
       "      <td>5831.78</td>\n",
       "      <td>INDIVIDUAL</td>\n",
       "      <td>0.0</td>\n",
       "    </tr>\n",
       "    <tr>\n",
       "      <th>1</th>\n",
       "      <td>1</td>\n",
       "      <td>2500.0</td>\n",
       "      <td>60</td>\n",
       "      <td>15.27</td>\n",
       "      <td>59.83</td>\n",
       "      <td>C</td>\n",
       "      <td>C4</td>\n",
       "      <td>1</td>\n",
       "      <td>RENT</td>\n",
       "      <td>30000</td>\n",
       "      <td>...</td>\n",
       "      <td>1.00</td>\n",
       "      <td>0.0</td>\n",
       "      <td>3.0</td>\n",
       "      <td>4.0</td>\n",
       "      <td>f</td>\n",
       "      <td>0.0</td>\n",
       "      <td>1008.710000</td>\n",
       "      <td>1008.71</td>\n",
       "      <td>INDIVIDUAL</td>\n",
       "      <td>0.0</td>\n",
       "    </tr>\n",
       "    <tr>\n",
       "      <th>2</th>\n",
       "      <td>2</td>\n",
       "      <td>2400.0</td>\n",
       "      <td>36</td>\n",
       "      <td>15.96</td>\n",
       "      <td>84.33</td>\n",
       "      <td>C</td>\n",
       "      <td>C5</td>\n",
       "      <td>10</td>\n",
       "      <td>RENT</td>\n",
       "      <td>12252</td>\n",
       "      <td>...</td>\n",
       "      <td>8.72</td>\n",
       "      <td>0.0</td>\n",
       "      <td>2.0</td>\n",
       "      <td>10.0</td>\n",
       "      <td>f</td>\n",
       "      <td>0.0</td>\n",
       "      <td>3003.653644</td>\n",
       "      <td>3003.65</td>\n",
       "      <td>INDIVIDUAL</td>\n",
       "      <td>0.0</td>\n",
       "    </tr>\n",
       "    <tr>\n",
       "      <th>3</th>\n",
       "      <td>3</td>\n",
       "      <td>10000.0</td>\n",
       "      <td>36</td>\n",
       "      <td>13.49</td>\n",
       "      <td>339.31</td>\n",
       "      <td>C</td>\n",
       "      <td>C1</td>\n",
       "      <td>10</td>\n",
       "      <td>RENT</td>\n",
       "      <td>49200</td>\n",
       "      <td>...</td>\n",
       "      <td>20.00</td>\n",
       "      <td>0.0</td>\n",
       "      <td>10.0</td>\n",
       "      <td>37.0</td>\n",
       "      <td>f</td>\n",
       "      <td>0.0</td>\n",
       "      <td>12226.302212</td>\n",
       "      <td>12226.30</td>\n",
       "      <td>INDIVIDUAL</td>\n",
       "      <td>0.0</td>\n",
       "    </tr>\n",
       "    <tr>\n",
       "      <th>4</th>\n",
       "      <td>4</td>\n",
       "      <td>3000.0</td>\n",
       "      <td>60</td>\n",
       "      <td>12.69</td>\n",
       "      <td>67.79</td>\n",
       "      <td>B</td>\n",
       "      <td>B5</td>\n",
       "      <td>1</td>\n",
       "      <td>RENT</td>\n",
       "      <td>80000</td>\n",
       "      <td>...</td>\n",
       "      <td>17.94</td>\n",
       "      <td>0.0</td>\n",
       "      <td>15.0</td>\n",
       "      <td>38.0</td>\n",
       "      <td>f</td>\n",
       "      <td>766.9</td>\n",
       "      <td>3242.170000</td>\n",
       "      <td>3242.17</td>\n",
       "      <td>INDIVIDUAL</td>\n",
       "      <td>0.0</td>\n",
       "    </tr>\n",
       "  </tbody>\n",
       "</table>\n",
       "<p>5 rows × 24 columns</p>\n",
       "</div>"
      ],
      "text/plain": [
       "   Unnamed: 0  loan_amnt  term  int_rate  installment grade sub_grade  \\\n",
       "0           0     5000.0    36     10.65       162.87     B        B2   \n",
       "1           1     2500.0    60     15.27        59.83     C        C4   \n",
       "2           2     2400.0    36     15.96        84.33     C        C5   \n",
       "3           3    10000.0    36     13.49       339.31     C        C1   \n",
       "4           4     3000.0    60     12.69        67.79     B        B5   \n",
       "\n",
       "   emp_length home_ownership  annual_inc       ...          dti delinq_2yrs  \\\n",
       "0          10           RENT       24000       ...        27.65         0.0   \n",
       "1           1           RENT       30000       ...         1.00         0.0   \n",
       "2          10           RENT       12252       ...         8.72         0.0   \n",
       "3          10           RENT       49200       ...        20.00         0.0   \n",
       "4           1           RENT       80000       ...        17.94         0.0   \n",
       "\n",
       "  open_acc total_acc  initial_list_status  out_prncp   total_pymnt  \\\n",
       "0      3.0       9.0                    f        0.0   5861.071414   \n",
       "1      3.0       4.0                    f        0.0   1008.710000   \n",
       "2      2.0      10.0                    f        0.0   3003.653644   \n",
       "3     10.0      37.0                    f        0.0  12226.302212   \n",
       "4     15.0      38.0                    f      766.9   3242.170000   \n",
       "\n",
       "   total_pymnt_inv application_type  acc_now_delinq  \n",
       "0          5831.78       INDIVIDUAL             0.0  \n",
       "1          1008.71       INDIVIDUAL             0.0  \n",
       "2          3003.65       INDIVIDUAL             0.0  \n",
       "3         12226.30       INDIVIDUAL             0.0  \n",
       "4          3242.17       INDIVIDUAL             0.0  \n",
       "\n",
       "[5 rows x 24 columns]"
      ]
     },
     "execution_count": 1,
     "metadata": {},
     "output_type": "execute_result"
    }
   ],
   "source": [
    "import pandas as pd\n",
    "import urllib\n",
    "from urllib import request\n",
    "import featuretools as ft\n",
    "import numpy as np\n",
    "import os\n",
    "dataLoc=\"data/cleandata.csv\"\n",
    "data = pd.read_csv(dataLoc)\n",
    "data.head()"
   ]
  },
  {
   "cell_type": "code",
   "execution_count": 2,
   "metadata": {},
   "outputs": [],
   "source": [
    "data['grade'] = data['grade'].map({'A': 1, 'B': 2,'C': 3, 'D': 4,'E': 5, 'F': 6, 'G': 7})\n"
   ]
  },
  {
   "cell_type": "code",
   "execution_count": 3,
   "metadata": {},
   "outputs": [
    {
     "name": "stdout",
     "output_type": "stream",
     "text": [
      "2019-03-20 11:55:57,324 featuretools.entityset - WARNING    index id not found in dataframe, creating new integer column\n"
     ]
    },
    {
     "data": {
      "image/svg+xml": [
       "<?xml version=\"1.0\" encoding=\"UTF-8\" standalone=\"no\"?>\n",
       "<!DOCTYPE svg PUBLIC \"-//W3C//DTD SVG 1.1//EN\"\n",
       " \"http://www.w3.org/Graphics/SVG/1.1/DTD/svg11.dtd\">\n",
       "<!-- Generated by graphviz version 2.40.1 (20161225.0304)\n",
       " -->\n",
       "<!-- Title: my&#45;entity&#45;set Pages: 1 -->\n",
       "<svg width=\"199pt\" height=\"415pt\"\n",
       " viewBox=\"0.00 0.00 199.00 415.00\" xmlns=\"http://www.w3.org/2000/svg\" xmlns:xlink=\"http://www.w3.org/1999/xlink\">\n",
       "<g id=\"graph0\" class=\"graph\" transform=\"scale(1 1) rotate(0) translate(4 411)\">\n",
       "<title>my&#45;entity&#45;set</title>\n",
       "<polygon fill=\"#ffffff\" stroke=\"transparent\" points=\"-4,4 -4,-411 195,-411 195,4 -4,4\"/>\n",
       "<!-- loan -->\n",
       "<g id=\"node1\" class=\"node\">\n",
       "<title>loan</title>\n",
       "<polygon fill=\"none\" stroke=\"#000000\" points=\"0,-.5 0,-406.5 191,-406.5 191,-.5 0,-.5\"/>\n",
       "<text text-anchor=\"middle\" x=\"95.5\" y=\"-391.3\" font-family=\"Times,serif\" font-size=\"14.00\" fill=\"#000000\">loan</text>\n",
       "<polyline fill=\"none\" stroke=\"#000000\" points=\"0,-383.5 191,-383.5 \"/>\n",
       "<text text-anchor=\"start\" x=\"8\" y=\"-368.3\" font-family=\"Times,serif\" font-size=\"14.00\" fill=\"#000000\">id : index</text>\n",
       "<text text-anchor=\"start\" x=\"8\" y=\"-353.3\" font-family=\"Times,serif\" font-size=\"14.00\" fill=\"#000000\">Unnamed: 0 : numeric</text>\n",
       "<text text-anchor=\"start\" x=\"8\" y=\"-338.3\" font-family=\"Times,serif\" font-size=\"14.00\" fill=\"#000000\">loan_amnt : numeric</text>\n",
       "<text text-anchor=\"start\" x=\"8\" y=\"-323.3\" font-family=\"Times,serif\" font-size=\"14.00\" fill=\"#000000\">term : numeric</text>\n",
       "<text text-anchor=\"start\" x=\"8\" y=\"-308.3\" font-family=\"Times,serif\" font-size=\"14.00\" fill=\"#000000\">int_rate : numeric</text>\n",
       "<text text-anchor=\"start\" x=\"8\" y=\"-293.3\" font-family=\"Times,serif\" font-size=\"14.00\" fill=\"#000000\">installment : numeric</text>\n",
       "<text text-anchor=\"start\" x=\"8\" y=\"-278.3\" font-family=\"Times,serif\" font-size=\"14.00\" fill=\"#000000\">grade : numeric</text>\n",
       "<text text-anchor=\"start\" x=\"8\" y=\"-263.3\" font-family=\"Times,serif\" font-size=\"14.00\" fill=\"#000000\">sub_grade : categorical</text>\n",
       "<text text-anchor=\"start\" x=\"8\" y=\"-248.3\" font-family=\"Times,serif\" font-size=\"14.00\" fill=\"#000000\">emp_length : numeric</text>\n",
       "<text text-anchor=\"start\" x=\"8\" y=\"-233.3\" font-family=\"Times,serif\" font-size=\"14.00\" fill=\"#000000\">home_ownership : categorical</text>\n",
       "<text text-anchor=\"start\" x=\"8\" y=\"-218.3\" font-family=\"Times,serif\" font-size=\"14.00\" fill=\"#000000\">annual_inc : numeric</text>\n",
       "<text text-anchor=\"start\" x=\"8\" y=\"-203.3\" font-family=\"Times,serif\" font-size=\"14.00\" fill=\"#000000\">verification_status : categorical</text>\n",
       "<text text-anchor=\"start\" x=\"8\" y=\"-188.3\" font-family=\"Times,serif\" font-size=\"14.00\" fill=\"#000000\">issue_d : datetime</text>\n",
       "<text text-anchor=\"start\" x=\"8\" y=\"-173.3\" font-family=\"Times,serif\" font-size=\"14.00\" fill=\"#000000\">purpose : categorical</text>\n",
       "<text text-anchor=\"start\" x=\"8\" y=\"-158.3\" font-family=\"Times,serif\" font-size=\"14.00\" fill=\"#000000\">addr_state : categorical</text>\n",
       "<text text-anchor=\"start\" x=\"8\" y=\"-143.3\" font-family=\"Times,serif\" font-size=\"14.00\" fill=\"#000000\">dti : numeric</text>\n",
       "<text text-anchor=\"start\" x=\"8\" y=\"-128.3\" font-family=\"Times,serif\" font-size=\"14.00\" fill=\"#000000\">delinq_2yrs : numeric</text>\n",
       "<text text-anchor=\"start\" x=\"8\" y=\"-113.3\" font-family=\"Times,serif\" font-size=\"14.00\" fill=\"#000000\">open_acc : numeric</text>\n",
       "<text text-anchor=\"start\" x=\"8\" y=\"-98.3\" font-family=\"Times,serif\" font-size=\"14.00\" fill=\"#000000\">total_acc : numeric</text>\n",
       "<text text-anchor=\"start\" x=\"8\" y=\"-83.3\" font-family=\"Times,serif\" font-size=\"14.00\" fill=\"#000000\">initial_list_status : categorical</text>\n",
       "<text text-anchor=\"start\" x=\"8\" y=\"-68.3\" font-family=\"Times,serif\" font-size=\"14.00\" fill=\"#000000\">out_prncp : numeric</text>\n",
       "<text text-anchor=\"start\" x=\"8\" y=\"-53.3\" font-family=\"Times,serif\" font-size=\"14.00\" fill=\"#000000\">total_pymnt : numeric</text>\n",
       "<text text-anchor=\"start\" x=\"8\" y=\"-38.3\" font-family=\"Times,serif\" font-size=\"14.00\" fill=\"#000000\">total_pymnt_inv : numeric</text>\n",
       "<text text-anchor=\"start\" x=\"8\" y=\"-23.3\" font-family=\"Times,serif\" font-size=\"14.00\" fill=\"#000000\">application_type : categorical</text>\n",
       "<text text-anchor=\"start\" x=\"8\" y=\"-8.3\" font-family=\"Times,serif\" font-size=\"14.00\" fill=\"#000000\">acc_now_delinq : numeric</text>\n",
       "</g>\n",
       "</g>\n",
       "</svg>\n"
      ],
      "text/plain": [
       "<graphviz.dot.Digraph at 0x10ff9b588>"
      ]
     },
     "execution_count": 3,
     "metadata": {},
     "output_type": "execute_result"
    }
   ],
   "source": [
    "entities={\"loan\":(data,\"id\")}\n",
    "es=ft.EntitySet(\"my-entity-set\", entities)\n",
    "es.plot()"
   ]
  },
  {
   "cell_type": "code",
   "execution_count": 4,
   "metadata": {},
   "outputs": [
    {
     "data": {
      "text/plain": [
       "[<Variable: id (dtype = index)>,\n",
       " <Variable: Unnamed: 0 (dtype = numeric)>,\n",
       " <Variable: loan_amnt (dtype = numeric)>,\n",
       " <Variable: term (dtype = numeric)>,\n",
       " <Variable: int_rate (dtype = numeric)>,\n",
       " <Variable: installment (dtype = numeric)>,\n",
       " <Variable: grade (dtype = numeric)>,\n",
       " <Variable: sub_grade (dtype = categorical)>,\n",
       " <Variable: emp_length (dtype = numeric)>,\n",
       " <Variable: home_ownership (dtype = categorical)>,\n",
       " <Variable: annual_inc (dtype = numeric)>,\n",
       " <Variable: verification_status (dtype = categorical)>,\n",
       " <Variable: issue_d (dtype: datetime, format: None)>,\n",
       " <Variable: purpose (dtype = categorical)>,\n",
       " <Variable: addr_state (dtype = categorical)>,\n",
       " <Variable: dti (dtype = numeric)>,\n",
       " <Variable: delinq_2yrs (dtype = numeric)>,\n",
       " <Variable: open_acc (dtype = numeric)>,\n",
       " <Variable: total_acc (dtype = numeric)>,\n",
       " <Variable: initial_list_status (dtype = categorical)>,\n",
       " <Variable: out_prncp (dtype = numeric)>,\n",
       " <Variable: total_pymnt (dtype = numeric)>,\n",
       " <Variable: total_pymnt_inv (dtype = numeric)>,\n",
       " <Variable: application_type (dtype = categorical)>,\n",
       " <Variable: acc_now_delinq (dtype = numeric)>]"
      ]
     },
     "execution_count": 4,
     "metadata": {},
     "output_type": "execute_result"
    }
   ],
   "source": [
    "es[\"loan\"].variables\n"
   ]
  },
  {
   "cell_type": "code",
   "execution_count": 5,
   "metadata": {},
   "outputs": [
    {
     "data": {
      "text/plain": [
       "[<Variable: id (dtype = index)>,\n",
       " <Variable: loan_amnt (dtype = numeric)>,\n",
       " <Variable: term (dtype = numeric)>,\n",
       " <Variable: int_rate (dtype = numeric)>,\n",
       " <Variable: emp_length (dtype = numeric)>,\n",
       " <Variable: grade (dtype = numeric)>,\n",
       " <Variable: total_pymnt (dtype = numeric)>,\n",
       " <Variable: total_pymnt_inv (dtype = numeric)>]"
      ]
     },
     "execution_count": 5,
     "metadata": {},
     "output_type": "execute_result"
    }
   ],
   "source": [
    "es = es.entity_from_dataframe(entity_id=\"loan\", \n",
    "                              dataframe=data, \n",
    "                              index=\"id\", \n",
    "                               \n",
    "                              variable_types={\"application_type\": ft.variable_types.Categorical})\n",
    "\n",
    "es = es.normalize_entity(base_entity_id=\"loan\",\n",
    "        new_entity_id=\"interest\",\n",
    "        index=\"id\",\n",
    "        additional_variables=[ \"loan_amnt\",\"term\",\"int_rate\",\"emp_length\",\"grade\", \"total_pymnt\",\"total_pymnt_inv\"])\n",
    "\n",
    "\n",
    "\n",
    "\n",
    "\n",
    "\n",
    "es[\"interest\"].variables\n"
   ]
  },
  {
   "cell_type": "code",
   "execution_count": 6,
   "metadata": {},
   "outputs": [
    {
     "data": {
      "image/svg+xml": [
       "<?xml version=\"1.0\" encoding=\"UTF-8\" standalone=\"no\"?>\n",
       "<!DOCTYPE svg PUBLIC \"-//W3C//DTD SVG 1.1//EN\"\n",
       " \"http://www.w3.org/Graphics/SVG/1.1/DTD/svg11.dtd\">\n",
       "<!-- Generated by graphviz version 2.40.1 (20161225.0304)\n",
       " -->\n",
       "<!-- Title: my&#45;entity&#45;set Pages: 1 -->\n",
       "<svg width=\"199pt\" height=\"498pt\"\n",
       " viewBox=\"0.00 0.00 199.00 498.00\" xmlns=\"http://www.w3.org/2000/svg\" xmlns:xlink=\"http://www.w3.org/1999/xlink\">\n",
       "<g id=\"graph0\" class=\"graph\" transform=\"scale(1 1) rotate(0) translate(4 494)\">\n",
       "<title>my&#45;entity&#45;set</title>\n",
       "<polygon fill=\"#ffffff\" stroke=\"transparent\" points=\"-4,4 -4,-494 195,-494 195,4 -4,4\"/>\n",
       "<!-- loan -->\n",
       "<g id=\"node1\" class=\"node\">\n",
       "<title>loan</title>\n",
       "<polygon fill=\"none\" stroke=\"#000000\" points=\"0,-188.5 0,-489.5 191,-489.5 191,-188.5 0,-188.5\"/>\n",
       "<text text-anchor=\"middle\" x=\"95.5\" y=\"-474.3\" font-family=\"Times,serif\" font-size=\"14.00\" fill=\"#000000\">loan</text>\n",
       "<polyline fill=\"none\" stroke=\"#000000\" points=\"0,-466.5 191,-466.5 \"/>\n",
       "<text text-anchor=\"start\" x=\"8\" y=\"-451.3\" font-family=\"Times,serif\" font-size=\"14.00\" fill=\"#000000\">id : id</text>\n",
       "<text text-anchor=\"start\" x=\"8\" y=\"-436.3\" font-family=\"Times,serif\" font-size=\"14.00\" fill=\"#000000\">Unnamed: 0 : numeric</text>\n",
       "<text text-anchor=\"start\" x=\"8\" y=\"-421.3\" font-family=\"Times,serif\" font-size=\"14.00\" fill=\"#000000\">installment : numeric</text>\n",
       "<text text-anchor=\"start\" x=\"8\" y=\"-406.3\" font-family=\"Times,serif\" font-size=\"14.00\" fill=\"#000000\">sub_grade : categorical</text>\n",
       "<text text-anchor=\"start\" x=\"8\" y=\"-391.3\" font-family=\"Times,serif\" font-size=\"14.00\" fill=\"#000000\">home_ownership : categorical</text>\n",
       "<text text-anchor=\"start\" x=\"8\" y=\"-376.3\" font-family=\"Times,serif\" font-size=\"14.00\" fill=\"#000000\">annual_inc : numeric</text>\n",
       "<text text-anchor=\"start\" x=\"8\" y=\"-361.3\" font-family=\"Times,serif\" font-size=\"14.00\" fill=\"#000000\">verification_status : categorical</text>\n",
       "<text text-anchor=\"start\" x=\"8\" y=\"-346.3\" font-family=\"Times,serif\" font-size=\"14.00\" fill=\"#000000\">issue_d : datetime</text>\n",
       "<text text-anchor=\"start\" x=\"8\" y=\"-331.3\" font-family=\"Times,serif\" font-size=\"14.00\" fill=\"#000000\">purpose : categorical</text>\n",
       "<text text-anchor=\"start\" x=\"8\" y=\"-316.3\" font-family=\"Times,serif\" font-size=\"14.00\" fill=\"#000000\">addr_state : categorical</text>\n",
       "<text text-anchor=\"start\" x=\"8\" y=\"-301.3\" font-family=\"Times,serif\" font-size=\"14.00\" fill=\"#000000\">dti : numeric</text>\n",
       "<text text-anchor=\"start\" x=\"8\" y=\"-286.3\" font-family=\"Times,serif\" font-size=\"14.00\" fill=\"#000000\">delinq_2yrs : numeric</text>\n",
       "<text text-anchor=\"start\" x=\"8\" y=\"-271.3\" font-family=\"Times,serif\" font-size=\"14.00\" fill=\"#000000\">open_acc : numeric</text>\n",
       "<text text-anchor=\"start\" x=\"8\" y=\"-256.3\" font-family=\"Times,serif\" font-size=\"14.00\" fill=\"#000000\">total_acc : numeric</text>\n",
       "<text text-anchor=\"start\" x=\"8\" y=\"-241.3\" font-family=\"Times,serif\" font-size=\"14.00\" fill=\"#000000\">initial_list_status : categorical</text>\n",
       "<text text-anchor=\"start\" x=\"8\" y=\"-226.3\" font-family=\"Times,serif\" font-size=\"14.00\" fill=\"#000000\">out_prncp : numeric</text>\n",
       "<text text-anchor=\"start\" x=\"8\" y=\"-211.3\" font-family=\"Times,serif\" font-size=\"14.00\" fill=\"#000000\">acc_now_delinq : numeric</text>\n",
       "<text text-anchor=\"start\" x=\"8\" y=\"-196.3\" font-family=\"Times,serif\" font-size=\"14.00\" fill=\"#000000\">application_type : categorical</text>\n",
       "</g>\n",
       "<!-- interest -->\n",
       "<g id=\"node2\" class=\"node\">\n",
       "<title>interest</title>\n",
       "<polygon fill=\"none\" stroke=\"#000000\" points=\"12.5,-.5 12.5,-151.5 178.5,-151.5 178.5,-.5 12.5,-.5\"/>\n",
       "<text text-anchor=\"middle\" x=\"95.5\" y=\"-136.3\" font-family=\"Times,serif\" font-size=\"14.00\" fill=\"#000000\">interest</text>\n",
       "<polyline fill=\"none\" stroke=\"#000000\" points=\"12.5,-128.5 178.5,-128.5 \"/>\n",
       "<text text-anchor=\"start\" x=\"20.5\" y=\"-113.3\" font-family=\"Times,serif\" font-size=\"14.00\" fill=\"#000000\">id : index</text>\n",
       "<text text-anchor=\"start\" x=\"20.5\" y=\"-98.3\" font-family=\"Times,serif\" font-size=\"14.00\" fill=\"#000000\">loan_amnt : numeric</text>\n",
       "<text text-anchor=\"start\" x=\"20.5\" y=\"-83.3\" font-family=\"Times,serif\" font-size=\"14.00\" fill=\"#000000\">term : numeric</text>\n",
       "<text text-anchor=\"start\" x=\"20.5\" y=\"-68.3\" font-family=\"Times,serif\" font-size=\"14.00\" fill=\"#000000\">int_rate : numeric</text>\n",
       "<text text-anchor=\"start\" x=\"20.5\" y=\"-53.3\" font-family=\"Times,serif\" font-size=\"14.00\" fill=\"#000000\">emp_length : numeric</text>\n",
       "<text text-anchor=\"start\" x=\"20.5\" y=\"-38.3\" font-family=\"Times,serif\" font-size=\"14.00\" fill=\"#000000\">grade : numeric</text>\n",
       "<text text-anchor=\"start\" x=\"20.5\" y=\"-23.3\" font-family=\"Times,serif\" font-size=\"14.00\" fill=\"#000000\">total_pymnt : numeric</text>\n",
       "<text text-anchor=\"start\" x=\"20.5\" y=\"-8.3\" font-family=\"Times,serif\" font-size=\"14.00\" fill=\"#000000\">total_pymnt_inv : numeric</text>\n",
       "</g>\n",
       "<!-- loan&#45;&gt;interest -->\n",
       "<g id=\"edge1\" class=\"edge\">\n",
       "<title>loan&#45;&gt;interest</title>\n",
       "<path fill=\"none\" stroke=\"#000000\" d=\"M95.5,-188.2985C95.5,-188.2985 95.5,-161.6268 95.5,-161.6268\"/>\n",
       "<polygon fill=\"#000000\" stroke=\"#000000\" points=\"99.0001,-161.6267 95.5,-151.6268 92.0001,-161.6268 99.0001,-161.6267\"/>\n",
       "<text text-anchor=\"middle\" x=\"90\" y=\"-163.7626\" font-family=\"Times,serif\" font-size=\"14.00\" fill=\"#000000\">id</text>\n",
       "</g>\n",
       "</g>\n",
       "</svg>\n"
      ],
      "text/plain": [
       "<graphviz.dot.Digraph at 0xa281c5e48>"
      ]
     },
     "execution_count": 6,
     "metadata": {},
     "output_type": "execute_result"
    }
   ],
   "source": [
    "es.plot()"
   ]
  },
  {
   "cell_type": "code",
   "execution_count": 7,
   "metadata": {},
   "outputs": [
    {
     "data": {
      "text/plain": [
       "Entityset: my-entity-set\n",
       "  Entities:\n",
       "    loan [Rows: 887350, Columns: 18]\n",
       "    interest [Rows: 887350, Columns: 8]\n",
       "  Relationships:\n",
       "    loan.id -> interest.id"
      ]
     },
     "execution_count": 7,
     "metadata": {},
     "output_type": "execute_result"
    }
   ],
   "source": [
    "es"
   ]
  },
  {
   "cell_type": "code",
   "execution_count": 8,
   "metadata": {},
   "outputs": [
    {
     "data": {
      "text/plain": [
       "Entity: interest\n",
       "  Variables:\n",
       "    id (dtype: index)\n",
       "    loan_amnt (dtype: numeric)\n",
       "    term (dtype: numeric)\n",
       "    int_rate (dtype: numeric)\n",
       "    emp_length (dtype: numeric)\n",
       "    grade (dtype: numeric)\n",
       "    total_pymnt (dtype: numeric)\n",
       "    total_pymnt_inv (dtype: numeric)\n",
       "  Shape:\n",
       "    (Rows: 887350, Columns: 8)"
      ]
     },
     "execution_count": 8,
     "metadata": {},
     "output_type": "execute_result"
    }
   ],
   "source": [
    "es[\"interest\"]\n"
   ]
  },
  {
   "cell_type": "code",
   "execution_count": 9,
   "metadata": {},
   "outputs": [],
   "source": [
    "new_relationship = ft.Relationship(es[\"interest\"][\"id\"],\n",
    "                                     es[\"loan\"][\"id\"])"
   ]
  },
  {
   "cell_type": "code",
   "execution_count": null,
   "metadata": {},
   "outputs": [],
   "source": [
    "feature_matrix, feature_defs = ft.dfs(entityset=es,\n",
    "                                          target_entity=\"interest\")"
   ]
  },
  {
   "cell_type": "code",
   "execution_count": null,
   "metadata": {},
   "outputs": [],
   "source": [
    "feature_matrix"
   ]
  },
  {
   "cell_type": "code",
   "execution_count": null,
   "metadata": {},
   "outputs": [],
   "source": []
  }
 ],
 "metadata": {
  "kernelspec": {
   "display_name": "Python 3",
   "language": "python",
   "name": "python3"
  },
  "language_info": {
   "codemirror_mode": {
    "name": "ipython",
    "version": 3
   },
   "file_extension": ".py",
   "mimetype": "text/x-python",
   "name": "python",
   "nbconvert_exporter": "python",
   "pygments_lexer": "ipython3",
   "version": "3.7.2"
  }
 },
 "nbformat": 4,
 "nbformat_minor": 2
}
