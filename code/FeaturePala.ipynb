{
 "cells": [
  {
   "cell_type": "code",
   "execution_count": 6,
   "metadata": {},
   "outputs": [
    {
     "data": {
      "text/html": [
       "<div>\n",
       "<style scoped>\n",
       "    .dataframe tbody tr th:only-of-type {\n",
       "        vertical-align: middle;\n",
       "    }\n",
       "\n",
       "    .dataframe tbody tr th {\n",
       "        vertical-align: top;\n",
       "    }\n",
       "\n",
       "    .dataframe thead th {\n",
       "        text-align: right;\n",
       "    }\n",
       "</style>\n",
       "<table border=\"1\" class=\"dataframe\">\n",
       "  <thead>\n",
       "    <tr style=\"text-align: right;\">\n",
       "      <th></th>\n",
       "      <th>Unnamed: 0</th>\n",
       "      <th>loan_amnt</th>\n",
       "      <th>term</th>\n",
       "      <th>int_rate</th>\n",
       "      <th>installment</th>\n",
       "      <th>grade</th>\n",
       "      <th>sub_grade</th>\n",
       "      <th>emp_length</th>\n",
       "      <th>home_ownership</th>\n",
       "      <th>annual_inc</th>\n",
       "      <th>...</th>\n",
       "      <th>dti</th>\n",
       "      <th>delinq_2yrs</th>\n",
       "      <th>open_acc</th>\n",
       "      <th>total_acc</th>\n",
       "      <th>initial_list_status</th>\n",
       "      <th>out_prncp</th>\n",
       "      <th>total_pymnt</th>\n",
       "      <th>total_pymnt_inv</th>\n",
       "      <th>application_type</th>\n",
       "      <th>acc_now_delinq</th>\n",
       "    </tr>\n",
       "  </thead>\n",
       "  <tbody>\n",
       "    <tr>\n",
       "      <th>0</th>\n",
       "      <td>0</td>\n",
       "      <td>5000.0</td>\n",
       "      <td>36</td>\n",
       "      <td>10.65</td>\n",
       "      <td>162.87</td>\n",
       "      <td>B</td>\n",
       "      <td>B2</td>\n",
       "      <td>10</td>\n",
       "      <td>RENT</td>\n",
       "      <td>24000</td>\n",
       "      <td>...</td>\n",
       "      <td>27.65</td>\n",
       "      <td>0.0</td>\n",
       "      <td>3.0</td>\n",
       "      <td>9.0</td>\n",
       "      <td>f</td>\n",
       "      <td>0.0</td>\n",
       "      <td>5861.071414</td>\n",
       "      <td>5831.78</td>\n",
       "      <td>INDIVIDUAL</td>\n",
       "      <td>0.0</td>\n",
       "    </tr>\n",
       "    <tr>\n",
       "      <th>1</th>\n",
       "      <td>1</td>\n",
       "      <td>2500.0</td>\n",
       "      <td>60</td>\n",
       "      <td>15.27</td>\n",
       "      <td>59.83</td>\n",
       "      <td>C</td>\n",
       "      <td>C4</td>\n",
       "      <td>1</td>\n",
       "      <td>RENT</td>\n",
       "      <td>30000</td>\n",
       "      <td>...</td>\n",
       "      <td>1.00</td>\n",
       "      <td>0.0</td>\n",
       "      <td>3.0</td>\n",
       "      <td>4.0</td>\n",
       "      <td>f</td>\n",
       "      <td>0.0</td>\n",
       "      <td>1008.710000</td>\n",
       "      <td>1008.71</td>\n",
       "      <td>INDIVIDUAL</td>\n",
       "      <td>0.0</td>\n",
       "    </tr>\n",
       "    <tr>\n",
       "      <th>2</th>\n",
       "      <td>2</td>\n",
       "      <td>2400.0</td>\n",
       "      <td>36</td>\n",
       "      <td>15.96</td>\n",
       "      <td>84.33</td>\n",
       "      <td>C</td>\n",
       "      <td>C5</td>\n",
       "      <td>10</td>\n",
       "      <td>RENT</td>\n",
       "      <td>12252</td>\n",
       "      <td>...</td>\n",
       "      <td>8.72</td>\n",
       "      <td>0.0</td>\n",
       "      <td>2.0</td>\n",
       "      <td>10.0</td>\n",
       "      <td>f</td>\n",
       "      <td>0.0</td>\n",
       "      <td>3003.653644</td>\n",
       "      <td>3003.65</td>\n",
       "      <td>INDIVIDUAL</td>\n",
       "      <td>0.0</td>\n",
       "    </tr>\n",
       "    <tr>\n",
       "      <th>3</th>\n",
       "      <td>3</td>\n",
       "      <td>10000.0</td>\n",
       "      <td>36</td>\n",
       "      <td>13.49</td>\n",
       "      <td>339.31</td>\n",
       "      <td>C</td>\n",
       "      <td>C1</td>\n",
       "      <td>10</td>\n",
       "      <td>RENT</td>\n",
       "      <td>49200</td>\n",
       "      <td>...</td>\n",
       "      <td>20.00</td>\n",
       "      <td>0.0</td>\n",
       "      <td>10.0</td>\n",
       "      <td>37.0</td>\n",
       "      <td>f</td>\n",
       "      <td>0.0</td>\n",
       "      <td>12226.302212</td>\n",
       "      <td>12226.30</td>\n",
       "      <td>INDIVIDUAL</td>\n",
       "      <td>0.0</td>\n",
       "    </tr>\n",
       "    <tr>\n",
       "      <th>4</th>\n",
       "      <td>4</td>\n",
       "      <td>3000.0</td>\n",
       "      <td>60</td>\n",
       "      <td>12.69</td>\n",
       "      <td>67.79</td>\n",
       "      <td>B</td>\n",
       "      <td>B5</td>\n",
       "      <td>1</td>\n",
       "      <td>RENT</td>\n",
       "      <td>80000</td>\n",
       "      <td>...</td>\n",
       "      <td>17.94</td>\n",
       "      <td>0.0</td>\n",
       "      <td>15.0</td>\n",
       "      <td>38.0</td>\n",
       "      <td>f</td>\n",
       "      <td>766.9</td>\n",
       "      <td>3242.170000</td>\n",
       "      <td>3242.17</td>\n",
       "      <td>INDIVIDUAL</td>\n",
       "      <td>0.0</td>\n",
       "    </tr>\n",
       "  </tbody>\n",
       "</table>\n",
       "<p>5 rows × 24 columns</p>\n",
       "</div>"
      ],
      "text/plain": [
       "   Unnamed: 0  loan_amnt  term  int_rate  installment grade sub_grade  \\\n",
       "0           0     5000.0    36     10.65       162.87     B        B2   \n",
       "1           1     2500.0    60     15.27        59.83     C        C4   \n",
       "2           2     2400.0    36     15.96        84.33     C        C5   \n",
       "3           3    10000.0    36     13.49       339.31     C        C1   \n",
       "4           4     3000.0    60     12.69        67.79     B        B5   \n",
       "\n",
       "   emp_length home_ownership  annual_inc       ...          dti delinq_2yrs  \\\n",
       "0          10           RENT       24000       ...        27.65         0.0   \n",
       "1           1           RENT       30000       ...         1.00         0.0   \n",
       "2          10           RENT       12252       ...         8.72         0.0   \n",
       "3          10           RENT       49200       ...        20.00         0.0   \n",
       "4           1           RENT       80000       ...        17.94         0.0   \n",
       "\n",
       "  open_acc total_acc  initial_list_status  out_prncp   total_pymnt  \\\n",
       "0      3.0       9.0                    f        0.0   5861.071414   \n",
       "1      3.0       4.0                    f        0.0   1008.710000   \n",
       "2      2.0      10.0                    f        0.0   3003.653644   \n",
       "3     10.0      37.0                    f        0.0  12226.302212   \n",
       "4     15.0      38.0                    f      766.9   3242.170000   \n",
       "\n",
       "   total_pymnt_inv application_type  acc_now_delinq  \n",
       "0          5831.78       INDIVIDUAL             0.0  \n",
       "1          1008.71       INDIVIDUAL             0.0  \n",
       "2          3003.65       INDIVIDUAL             0.0  \n",
       "3         12226.30       INDIVIDUAL             0.0  \n",
       "4          3242.17       INDIVIDUAL             0.0  \n",
       "\n",
       "[5 rows x 24 columns]"
      ]
     },
     "execution_count": 6,
     "metadata": {},
     "output_type": "execute_result"
    }
   ],
   "source": [
    "import pandas as pd\n",
    "import urllib\n",
    "from urllib import request\n",
    "import featuretools as ft\n",
    "import numpy as np\n",
    "import os\n",
    "dataLoc=\"data/cleandata.csv\"\n",
    "data = pd.read_csv(dataLoc)\n",
    "data.head()"
   ]
  },
  {
   "cell_type": "code",
   "execution_count": 7,
   "metadata": {},
   "outputs": [],
   "source": [
    "entities={\"loan\":(data,\"id\")}"
   ]
  },
  {
   "cell_type": "code",
   "execution_count": 23,
   "metadata": {},
   "outputs": [
    {
     "data": {
      "text/plain": [
       "Entityset: my-entity-set\n",
       "  Entities:\n",
       "    loan [Rows: 887350, Columns: 25]\n",
       "  Relationships:\n",
       "    No relationships"
      ]
     },
     "execution_count": 23,
     "metadata": {},
     "output_type": "execute_result"
    }
   ],
   "source": [
    "\n",
    "es=ft.EntitySet(\"my-entity-set\", entities)\n",
    "es"
   ]
  },
  {
   "cell_type": "code",
   "execution_count": 9,
   "metadata": {},
   "outputs": [
    {
     "data": {
      "text/plain": [
       "[<Variable: id (dtype = index)>,\n",
       " <Variable: Unnamed: 0 (dtype = numeric)>,\n",
       " <Variable: loan_amnt (dtype = numeric)>,\n",
       " <Variable: term (dtype = numeric)>,\n",
       " <Variable: int_rate (dtype = numeric)>,\n",
       " <Variable: installment (dtype = numeric)>,\n",
       " <Variable: grade (dtype = categorical)>,\n",
       " <Variable: sub_grade (dtype = categorical)>,\n",
       " <Variable: emp_length (dtype = numeric)>,\n",
       " <Variable: home_ownership (dtype = categorical)>,\n",
       " <Variable: annual_inc (dtype = numeric)>,\n",
       " <Variable: verification_status (dtype = categorical)>,\n",
       " <Variable: issue_d (dtype: datetime, format: None)>,\n",
       " <Variable: purpose (dtype = categorical)>,\n",
       " <Variable: addr_state (dtype = categorical)>,\n",
       " <Variable: dti (dtype = numeric)>,\n",
       " <Variable: delinq_2yrs (dtype = numeric)>,\n",
       " <Variable: open_acc (dtype = numeric)>,\n",
       " <Variable: total_acc (dtype = numeric)>,\n",
       " <Variable: initial_list_status (dtype = categorical)>,\n",
       " <Variable: out_prncp (dtype = numeric)>,\n",
       " <Variable: total_pymnt (dtype = numeric)>,\n",
       " <Variable: total_pymnt_inv (dtype = numeric)>,\n",
       " <Variable: application_type (dtype = categorical)>,\n",
       " <Variable: acc_now_delinq (dtype = numeric)>]"
      ]
     },
     "execution_count": 9,
     "metadata": {},
     "output_type": "execute_result"
    }
   ],
   "source": [
    "es[\"loan\"].variables\n"
   ]
  },
  {
   "cell_type": "code",
   "execution_count": 32,
   "metadata": {},
   "outputs": [
    {
     "data": {
      "text/plain": [
       "[<Variable: id (dtype = index)>,\n",
       " <Variable: int_rate (dtype = numeric)>,\n",
       " <Variable: loan_amnt (dtype = numeric)>,\n",
       " <Variable: annual_inc (dtype = numeric)>,\n",
       " <Variable: total_pymnt (dtype = numeric)>,\n",
       " <Variable: total_pymnt_inv (dtype = numeric)>]"
      ]
     },
     "execution_count": 32,
     "metadata": {},
     "output_type": "execute_result"
    }
   ],
   "source": [
    "es = es.normalize_entity(base_entity_id=\"loan\",\n",
    "                             new_entity_id=\"int_rate\",\n",
    "                             index=\"id\",additional_variables=[\"int_rate\", \"loan_amnt\", \"annual_inc\",\"total_pymnt\",\"total_pymnt_inv\"])\n",
    "es[\"int_rate\"].variables"
   ]
  },
  {
   "cell_type": "code",
   "execution_count": 34,
   "metadata": {},
   "outputs": [
    {
     "data": {
      "text/plain": [
       "Entityset: my-entity-set\n",
       "  Entities:\n",
       "    loan [Rows: 887350, Columns: 20]\n",
       "    int_rate [Rows: 887350, Columns: 6]\n",
       "  Relationships:\n",
       "    loan.id -> int_rate.id"
      ]
     },
     "execution_count": 34,
     "metadata": {},
     "output_type": "execute_result"
    }
   ],
   "source": [
    "es"
   ]
  },
  {
   "cell_type": "code",
   "execution_count": 35,
   "metadata": {},
   "outputs": [
    {
     "ename": "AttributeError",
     "evalue": "'Entity' object has no attribute 'head'",
     "output_type": "error",
     "traceback": [
      "\u001b[0;31m---------------------------------------------------------------------------\u001b[0m",
      "\u001b[0;31mAttributeError\u001b[0m                            Traceback (most recent call last)",
      "\u001b[0;32m<ipython-input-35-882786c81851>\u001b[0m in \u001b[0;36m<module>\u001b[0;34m\u001b[0m\n\u001b[0;32m----> 1\u001b[0;31m \u001b[0mes\u001b[0m\u001b[0;34m[\u001b[0m\u001b[0;34m\"int_rate\"\u001b[0m\u001b[0;34m]\u001b[0m\u001b[0;34m.\u001b[0m\u001b[0mhead\u001b[0m\u001b[0;34m(\u001b[0m\u001b[0;34m)\u001b[0m\u001b[0;34m\u001b[0m\u001b[0;34m\u001b[0m\u001b[0m\n\u001b[0m",
      "\u001b[0;31mAttributeError\u001b[0m: 'Entity' object has no attribute 'head'"
     ]
    }
   ],
   "source": [
    "es[\"int_rate\"].head()"
   ]
  },
  {
   "cell_type": "code",
   "execution_count": null,
   "metadata": {},
   "outputs": [],
   "source": []
  },
  {
   "cell_type": "code",
   "execution_count": null,
   "metadata": {},
   "outputs": [],
   "source": []
  }
 ],
 "metadata": {
  "kernelspec": {
   "display_name": "Python 3",
   "language": "python",
   "name": "python3"
  },
  "language_info": {
   "codemirror_mode": {
    "name": "ipython",
    "version": 3
   },
   "file_extension": ".py",
   "mimetype": "text/x-python",
   "name": "python",
   "nbconvert_exporter": "python",
   "pygments_lexer": "ipython3",
   "version": "3.7.2"
  }
 },
 "nbformat": 4,
 "nbformat_minor": 2
}
